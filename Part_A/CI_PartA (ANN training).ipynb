{
 "cells": [
  {
   "cell_type": "markdown",
   "id": "b341b36d",
   "metadata": {},
   "source": [
    "# CI Assignment Part A"
   ]
  },
  {
   "cell_type": "markdown",
   "id": "afa2ad80",
   "metadata": {},
   "source": [
    "## 2. Processing data"
   ]
  },
  {
   "cell_type": "code",
   "execution_count": 956,
   "id": "32c004b3",
   "metadata": {},
   "outputs": [],
   "source": [
    "import matplotlib.pyplot as plt\n",
    "import numpy as nmp\n",
    "import tensorflow\n",
    "import pandas as pd\n",
    "import os\n",
    "import math"
   ]
  },
  {
   "cell_type": "code",
   "execution_count": 957,
   "id": "58bc49c3",
   "metadata": {},
   "outputs": [],
   "source": [
    "dataTable = pd.read_csv(\"C:/Users/miror/OneDrive - Ye9pfoBh9P/1_VUM_STUDY/3 year/01 Computational Intelligence/Assignment/Clean_Data_merged/cleandata.csv\")"
   ]
  },
  {
   "cell_type": "code",
   "execution_count": 958,
   "id": "e999aeec",
   "metadata": {},
   "outputs": [
    {
     "data": {
      "text/html": [
       "<div>\n",
       "<style scoped>\n",
       "    .dataframe tbody tr th:only-of-type {\n",
       "        vertical-align: middle;\n",
       "    }\n",
       "\n",
       "    .dataframe tbody tr th {\n",
       "        vertical-align: top;\n",
       "    }\n",
       "\n",
       "    .dataframe thead th {\n",
       "        text-align: right;\n",
       "    }\n",
       "</style>\n",
       "<table border=\"1\" class=\"dataframe\">\n",
       "  <thead>\n",
       "    <tr style=\"text-align: right;\">\n",
       "      <th></th>\n",
       "      <th>Unnamed: 0</th>\n",
       "      <th>acc_attr_x</th>\n",
       "      <th>acc_attr_y</th>\n",
       "      <th>acc_attr_z</th>\n",
       "      <th>lig_attr_db</th>\n",
       "      <th>mic_attr_db</th>\n",
       "      <th>activity</th>\n",
       "      <th>subject</th>\n",
       "    </tr>\n",
       "  </thead>\n",
       "  <tbody>\n",
       "    <tr>\n",
       "      <th>0</th>\n",
       "      <td>0</td>\n",
       "      <td>1.570596</td>\n",
       "      <td>9.466674</td>\n",
       "      <td>-1.037288</td>\n",
       "      <td>43.163752</td>\n",
       "      <td>43.163752</td>\n",
       "      <td>climbingdown</td>\n",
       "      <td>8</td>\n",
       "    </tr>\n",
       "    <tr>\n",
       "      <th>1</th>\n",
       "      <td>1</td>\n",
       "      <td>1.565808</td>\n",
       "      <td>9.433155</td>\n",
       "      <td>-1.077391</td>\n",
       "      <td>41.066512</td>\n",
       "      <td>41.066512</td>\n",
       "      <td>climbingdown</td>\n",
       "      <td>8</td>\n",
       "    </tr>\n",
       "    <tr>\n",
       "      <th>2</th>\n",
       "      <td>2</td>\n",
       "      <td>1.562217</td>\n",
       "      <td>9.404425</td>\n",
       "      <td>-1.161786</td>\n",
       "      <td>42.328321</td>\n",
       "      <td>42.328321</td>\n",
       "      <td>climbingdown</td>\n",
       "      <td>8</td>\n",
       "    </tr>\n",
       "    <tr>\n",
       "      <th>3</th>\n",
       "      <td>3</td>\n",
       "      <td>1.568202</td>\n",
       "      <td>9.430760</td>\n",
       "      <td>-1.138443</td>\n",
       "      <td>39.511711</td>\n",
       "      <td>39.511711</td>\n",
       "      <td>climbingdown</td>\n",
       "      <td>8</td>\n",
       "    </tr>\n",
       "    <tr>\n",
       "      <th>4</th>\n",
       "      <td>4</td>\n",
       "      <td>1.531691</td>\n",
       "      <td>9.430161</td>\n",
       "      <td>-1.177349</td>\n",
       "      <td>38.312101</td>\n",
       "      <td>38.312101</td>\n",
       "      <td>climbingdown</td>\n",
       "      <td>8</td>\n",
       "    </tr>\n",
       "    <tr>\n",
       "      <th>...</th>\n",
       "      <td>...</td>\n",
       "      <td>...</td>\n",
       "      <td>...</td>\n",
       "      <td>...</td>\n",
       "      <td>...</td>\n",
       "      <td>...</td>\n",
       "      <td>...</td>\n",
       "      <td>...</td>\n",
       "    </tr>\n",
       "    <tr>\n",
       "      <th>5620</th>\n",
       "      <td>1113</td>\n",
       "      <td>-4.417901</td>\n",
       "      <td>19.608511</td>\n",
       "      <td>-10.108918</td>\n",
       "      <td>55.604324</td>\n",
       "      <td>55.604324</td>\n",
       "      <td>running</td>\n",
       "      <td>9</td>\n",
       "    </tr>\n",
       "    <tr>\n",
       "      <th>5621</th>\n",
       "      <td>1114</td>\n",
       "      <td>-19.609110</td>\n",
       "      <td>19.608511</td>\n",
       "      <td>-5.850232</td>\n",
       "      <td>58.605181</td>\n",
       "      <td>58.605181</td>\n",
       "      <td>running</td>\n",
       "      <td>9</td>\n",
       "    </tr>\n",
       "    <tr>\n",
       "      <th>5622</th>\n",
       "      <td>1115</td>\n",
       "      <td>-19.609110</td>\n",
       "      <td>19.608511</td>\n",
       "      <td>15.040974</td>\n",
       "      <td>61.460716</td>\n",
       "      <td>61.460716</td>\n",
       "      <td>running</td>\n",
       "      <td>9</td>\n",
       "    </tr>\n",
       "    <tr>\n",
       "      <th>5623</th>\n",
       "      <td>1116</td>\n",
       "      <td>-8.810662</td>\n",
       "      <td>19.608511</td>\n",
       "      <td>9.129689</td>\n",
       "      <td>62.726301</td>\n",
       "      <td>62.726301</td>\n",
       "      <td>running</td>\n",
       "      <td>9</td>\n",
       "    </tr>\n",
       "    <tr>\n",
       "      <th>5624</th>\n",
       "      <td>1117</td>\n",
       "      <td>3.532644</td>\n",
       "      <td>18.299482</td>\n",
       "      <td>12.200254</td>\n",
       "      <td>60.962830</td>\n",
       "      <td>60.962830</td>\n",
       "      <td>running</td>\n",
       "      <td>9</td>\n",
       "    </tr>\n",
       "  </tbody>\n",
       "</table>\n",
       "<p>5625 rows × 8 columns</p>\n",
       "</div>"
      ],
      "text/plain": [
       "      Unnamed: 0  acc_attr_x  acc_attr_y  acc_attr_z  lig_attr_db  \\\n",
       "0              0    1.570596    9.466674   -1.037288    43.163752   \n",
       "1              1    1.565808    9.433155   -1.077391    41.066512   \n",
       "2              2    1.562217    9.404425   -1.161786    42.328321   \n",
       "3              3    1.568202    9.430760   -1.138443    39.511711   \n",
       "4              4    1.531691    9.430161   -1.177349    38.312101   \n",
       "...          ...         ...         ...         ...          ...   \n",
       "5620        1113   -4.417901   19.608511  -10.108918    55.604324   \n",
       "5621        1114  -19.609110   19.608511   -5.850232    58.605181   \n",
       "5622        1115  -19.609110   19.608511   15.040974    61.460716   \n",
       "5623        1116   -8.810662   19.608511    9.129689    62.726301   \n",
       "5624        1117    3.532644   18.299482   12.200254    60.962830   \n",
       "\n",
       "      mic_attr_db      activity  subject  \n",
       "0       43.163752  climbingdown        8  \n",
       "1       41.066512  climbingdown        8  \n",
       "2       42.328321  climbingdown        8  \n",
       "3       39.511711  climbingdown        8  \n",
       "4       38.312101  climbingdown        8  \n",
       "...           ...           ...      ...  \n",
       "5620    55.604324       running        9  \n",
       "5621    58.605181       running        9  \n",
       "5622    61.460716       running        9  \n",
       "5623    62.726301       running        9  \n",
       "5624    60.962830       running        9  \n",
       "\n",
       "[5625 rows x 8 columns]"
      ]
     },
     "execution_count": 958,
     "metadata": {},
     "output_type": "execute_result"
    }
   ],
   "source": [
    "dataTable"
   ]
  },
  {
   "cell_type": "markdown",
   "id": "ce83e1ba",
   "metadata": {},
   "source": [
    "### Encoding of activity column"
   ]
  },
  {
   "cell_type": "code",
   "execution_count": 959,
   "id": "ef201e53",
   "metadata": {},
   "outputs": [],
   "source": [
    "from sklearn.preprocessing import LabelEncoder\n",
    "encoder = LabelEncoder()\n",
    "activity = encoder.fit_transform(dataTable['activity'])"
   ]
  },
  {
   "cell_type": "code",
   "execution_count": 960,
   "id": "3c4f4cae",
   "metadata": {},
   "outputs": [
    {
     "data": {
      "text/plain": [
       "array([0, 0, 0, ..., 3, 3, 3])"
      ]
     },
     "execution_count": 960,
     "metadata": {},
     "output_type": "execute_result"
    }
   ],
   "source": [
    "activity"
   ]
  },
  {
   "cell_type": "markdown",
   "id": "2632ab81",
   "metadata": {},
   "source": [
    "### Spliting to train and test data"
   ]
  },
  {
   "cell_type": "code",
   "execution_count": 961,
   "id": "3dd01678",
   "metadata": {},
   "outputs": [],
   "source": [
    "x = dataTable.iloc[:, 1:-2].values\n",
    "y = activity"
   ]
  },
  {
   "cell_type": "code",
   "execution_count": 962,
   "id": "e5796c02",
   "metadata": {},
   "outputs": [
    {
     "data": {
      "text/plain": [
       "array([[  1.5705963 ,   9.466674  ,  -1.0372878 ,  43.16375246,\n",
       "         43.16375246],\n",
       "       [  1.5658079 ,   9.433155  ,  -1.0773908 ,  41.06651168,\n",
       "         41.06651168],\n",
       "       [  1.5622166 ,   9.404425  ,  -1.1617863 ,  42.32832127,\n",
       "         42.32832127],\n",
       "       ...,\n",
       "       [-19.60911   ,  19.608511  ,  15.040974  ,  61.46071606,\n",
       "         61.46071606],\n",
       "       [ -8.810662  ,  19.608511  ,   9.129689  ,  62.72630078,\n",
       "         62.72630078],\n",
       "       [  3.5326445 ,  18.299482  ,  12.2002535 ,  60.96283016,\n",
       "         60.96283016]])"
      ]
     },
     "execution_count": 962,
     "metadata": {},
     "output_type": "execute_result"
    }
   ],
   "source": [
    "x"
   ]
  },
  {
   "cell_type": "markdown",
   "id": "858091dc",
   "metadata": {},
   "source": [
    "### Feature scalling "
   ]
  },
  {
   "cell_type": "code",
   "execution_count": 963,
   "id": "663d664b",
   "metadata": {},
   "outputs": [],
   "source": [
    "from sklearn.model_selection import train_test_split\n",
    "X_train, X_test, y_train, y_test = train_test_split(x, y, test_size = 0.2, random_state = 0)"
   ]
  },
  {
   "cell_type": "code",
   "execution_count": 964,
   "id": "62b76435",
   "metadata": {},
   "outputs": [],
   "source": [
    "from sklearn.preprocessing import StandardScaler\n",
    "sc = StandardScaler()\n",
    "X_train = sc.fit_transform(X_train)\n",
    "X_test = sc.fit_transform(X_test)"
   ]
  },
  {
   "cell_type": "markdown",
   "id": "b7fd78f3",
   "metadata": {},
   "source": [
    "____________________________________"
   ]
  },
  {
   "cell_type": "markdown",
   "id": "5d10ca20",
   "metadata": {},
   "source": [
    "## 3. Building the ANN"
   ]
  },
  {
   "cell_type": "code",
   "execution_count": 965,
   "id": "949d4c57",
   "metadata": {},
   "outputs": [],
   "source": [
    "from tensorflow.keras.models import Sequential\n",
    "from tensorflow.keras.layers import Dense\n",
    "from keras.utils import np_utils"
   ]
  },
  {
   "cell_type": "markdown",
   "id": "1027de22",
   "metadata": {},
   "source": [
    "#### Encoding classes each type activity will be as column"
   ]
  },
  {
   "cell_type": "code",
   "execution_count": 966,
   "id": "714b70ee",
   "metadata": {},
   "outputs": [],
   "source": [
    "y_train = np_utils.to_categorical(y_train)\n",
    "y_test = np_utils.to_categorical(y_test) "
   ]
  },
  {
   "cell_type": "markdown",
   "id": "33ddec29",
   "metadata": {},
   "source": [
    "### Structure of the network"
   ]
  },
  {
   "cell_type": "markdown",
   "id": "ff0b16d5",
   "metadata": {},
   "source": [
    "#### Initializing the ANN"
   ]
  },
  {
   "cell_type": "code",
   "execution_count": 967,
   "id": "0f5eede3",
   "metadata": {},
   "outputs": [],
   "source": [
    "ann = Sequential()"
   ]
  },
  {
   "cell_type": "markdown",
   "id": "8e826377",
   "metadata": {},
   "source": [
    "#### Adding the input layer and the first hidden layer"
   ]
  },
  {
   "cell_type": "code",
   "execution_count": 968,
   "id": "5a69ccda",
   "metadata": {},
   "outputs": [],
   "source": [
    "ann.add(Dense(input_shape = (5,), units = 72, activation = 'relu'))"
   ]
  },
  {
   "cell_type": "markdown",
   "id": "8466b8db",
   "metadata": {},
   "source": [
    "#### Adding the second hidden layer"
   ]
  },
  {
   "cell_type": "code",
   "execution_count": 969,
   "id": "655ada21",
   "metadata": {},
   "outputs": [],
   "source": [
    "ann.add(Dense(units = 72, activation='relu'))"
   ]
  },
  {
   "cell_type": "markdown",
   "id": "87d6a83f",
   "metadata": {},
   "source": [
    "#### Adding the output layer"
   ]
  },
  {
   "cell_type": "code",
   "execution_count": 970,
   "id": "260828ac",
   "metadata": {},
   "outputs": [],
   "source": [
    "ann.add(Dense(units = 4, activation='softmax'))"
   ]
  },
  {
   "cell_type": "code",
   "execution_count": 971,
   "id": "2ddb17cc",
   "metadata": {},
   "outputs": [
    {
     "data": {
      "text/plain": [
       "5625"
      ]
     },
     "execution_count": 971,
     "metadata": {},
     "output_type": "execute_result"
    }
   ],
   "source": [
    "len(activity)"
   ]
  },
  {
   "cell_type": "markdown",
   "id": "70bde5b8",
   "metadata": {},
   "source": [
    "## 4. Training the ANN"
   ]
  },
  {
   "cell_type": "markdown",
   "id": "2bc26eba",
   "metadata": {},
   "source": [
    "### Compiling the ANN"
   ]
  },
  {
   "cell_type": "code",
   "execution_count": 972,
   "id": "ad3135db",
   "metadata": {},
   "outputs": [],
   "source": [
    "ann.compile(loss = 'categorical_crossentropy', optimizer='adam', metrics = ['accuracy'])"
   ]
  },
  {
   "cell_type": "markdown",
   "id": "8bd35d4b",
   "metadata": {},
   "source": [
    "### Summary of ANN"
   ]
  },
  {
   "cell_type": "code",
   "execution_count": 973,
   "id": "0b0fc62e",
   "metadata": {},
   "outputs": [
    {
     "name": "stdout",
     "output_type": "stream",
     "text": [
      "Model: \"sequential_39\"\n",
      "_________________________________________________________________\n",
      " Layer (type)                Output Shape              Param #   \n",
      "=================================================================\n",
      " dense_117 (Dense)           (None, 72)                432       \n",
      "                                                                 \n",
      " dense_118 (Dense)           (None, 72)                5256      \n",
      "                                                                 \n",
      " dense_119 (Dense)           (None, 4)                 292       \n",
      "                                                                 \n",
      "=================================================================\n",
      "Total params: 5,980\n",
      "Trainable params: 5,980\n",
      "Non-trainable params: 0\n",
      "_________________________________________________________________\n"
     ]
    }
   ],
   "source": [
    "ann.summary()"
   ]
  },
  {
   "cell_type": "markdown",
   "id": "9420a7cf",
   "metadata": {},
   "source": [
    "### Training the ANN on the Training set"
   ]
  },
  {
   "cell_type": "code",
   "execution_count": 974,
   "id": "4dafdd0d",
   "metadata": {},
   "outputs": [
    {
     "name": "stdout",
     "output_type": "stream",
     "text": [
      "Epoch 1/150\n",
      "141/141 [==============================] - 0s 850us/step - loss: 0.7580 - accuracy: 0.6696\n",
      "Epoch 2/150\n",
      "141/141 [==============================] - 0s 824us/step - loss: 0.6043 - accuracy: 0.7429\n",
      "Epoch 3/150\n",
      "141/141 [==============================] - 0s 831us/step - loss: 0.5723 - accuracy: 0.7642\n",
      "Epoch 4/150\n",
      "141/141 [==============================] - 0s 875us/step - loss: 0.5398 - accuracy: 0.7858\n",
      "Epoch 5/150\n",
      "141/141 [==============================] - 0s 878us/step - loss: 0.5096 - accuracy: 0.8129\n",
      "Epoch 6/150\n",
      "141/141 [==============================] - 0s 882us/step - loss: 0.4795 - accuracy: 0.8296\n",
      "Epoch 7/150\n",
      "141/141 [==============================] - 0s 895us/step - loss: 0.4527 - accuracy: 0.8502\n",
      "Epoch 8/150\n",
      "141/141 [==============================] - 0s 845us/step - loss: 0.4298 - accuracy: 0.8567\n",
      "Epoch 9/150\n",
      "141/141 [==============================] - 0s 866us/step - loss: 0.4089 - accuracy: 0.8596\n",
      "Epoch 10/150\n",
      "141/141 [==============================] - 0s 830us/step - loss: 0.3901 - accuracy: 0.8640\n",
      "Epoch 11/150\n",
      "141/141 [==============================] - 0s 939us/step - loss: 0.3766 - accuracy: 0.8633\n",
      "Epoch 12/150\n",
      "141/141 [==============================] - 0s 975us/step - loss: 0.3631 - accuracy: 0.8702\n",
      "Epoch 13/150\n",
      "141/141 [==============================] - 0s 950us/step - loss: 0.3549 - accuracy: 0.8711\n",
      "Epoch 14/150\n",
      "141/141 [==============================] - 0s 831us/step - loss: 0.3430 - accuracy: 0.8740\n",
      "Epoch 15/150\n",
      "141/141 [==============================] - 0s 840us/step - loss: 0.3366 - accuracy: 0.8771\n",
      "Epoch 16/150\n",
      "141/141 [==============================] - 0s 825us/step - loss: 0.3309 - accuracy: 0.8747\n",
      "Epoch 17/150\n",
      "141/141 [==============================] - 0s 870us/step - loss: 0.3229 - accuracy: 0.8771\n",
      "Epoch 18/150\n",
      "141/141 [==============================] - 0s 927us/step - loss: 0.3151 - accuracy: 0.8780\n",
      "Epoch 19/150\n",
      "141/141 [==============================] - 0s 993us/step - loss: 0.3087 - accuracy: 0.8827\n",
      "Epoch 20/150\n",
      "141/141 [==============================] - 0s 1ms/step - loss: 0.3031 - accuracy: 0.8831\n",
      "Epoch 21/150\n",
      "141/141 [==============================] - 0s 1ms/step - loss: 0.2988 - accuracy: 0.8878\n",
      "Epoch 22/150\n",
      "141/141 [==============================] - 0s 822us/step - loss: 0.2917 - accuracy: 0.8898\n",
      "Epoch 23/150\n",
      "141/141 [==============================] - 0s 861us/step - loss: 0.2865 - accuracy: 0.8896\n",
      "Epoch 24/150\n",
      "141/141 [==============================] - 0s 827us/step - loss: 0.2819 - accuracy: 0.8922\n",
      "Epoch 25/150\n",
      "141/141 [==============================] - 0s 861us/step - loss: 0.2769 - accuracy: 0.8984\n",
      "Epoch 26/150\n",
      "141/141 [==============================] - 0s 837us/step - loss: 0.2760 - accuracy: 0.8978\n",
      "Epoch 27/150\n",
      "141/141 [==============================] - 0s 855us/step - loss: 0.2669 - accuracy: 0.9027\n",
      "Epoch 28/150\n",
      "141/141 [==============================] - 0s 832us/step - loss: 0.2648 - accuracy: 0.9040\n",
      "Epoch 29/150\n",
      "141/141 [==============================] - 0s 861us/step - loss: 0.2590 - accuracy: 0.9058\n",
      "Epoch 30/150\n",
      "141/141 [==============================] - 0s 831us/step - loss: 0.2559 - accuracy: 0.9071\n",
      "Epoch 31/150\n",
      "141/141 [==============================] - 0s 870us/step - loss: 0.2522 - accuracy: 0.9080\n",
      "Epoch 32/150\n",
      "141/141 [==============================] - 0s 846us/step - loss: 0.2514 - accuracy: 0.9082\n",
      "Epoch 33/150\n",
      "141/141 [==============================] - 0s 861us/step - loss: 0.2475 - accuracy: 0.9038\n",
      "Epoch 34/150\n",
      "141/141 [==============================] - 0s 839us/step - loss: 0.2439 - accuracy: 0.9071\n",
      "Epoch 35/150\n",
      "141/141 [==============================] - 0s 876us/step - loss: 0.2379 - accuracy: 0.9098\n",
      "Epoch 36/150\n",
      "141/141 [==============================] - 0s 839us/step - loss: 0.2367 - accuracy: 0.9111\n",
      "Epoch 37/150\n",
      "141/141 [==============================] - 0s 840us/step - loss: 0.2359 - accuracy: 0.9109\n",
      "Epoch 38/150\n",
      "141/141 [==============================] - 0s 851us/step - loss: 0.2302 - accuracy: 0.9138\n",
      "Epoch 39/150\n",
      "141/141 [==============================] - 0s 826us/step - loss: 0.2292 - accuracy: 0.9122\n",
      "Epoch 40/150\n",
      "141/141 [==============================] - 0s 886us/step - loss: 0.2288 - accuracy: 0.9144\n",
      "Epoch 41/150\n",
      "141/141 [==============================] - 0s 826us/step - loss: 0.2246 - accuracy: 0.9142\n",
      "Epoch 42/150\n",
      "141/141 [==============================] - 0s 905us/step - loss: 0.2228 - accuracy: 0.9118\n",
      "Epoch 43/150\n",
      "141/141 [==============================] - 0s 832us/step - loss: 0.2191 - accuracy: 0.9173\n",
      "Epoch 44/150\n",
      "141/141 [==============================] - 0s 852us/step - loss: 0.2171 - accuracy: 0.9178\n",
      "Epoch 45/150\n",
      "141/141 [==============================] - 0s 815us/step - loss: 0.2183 - accuracy: 0.9198\n",
      "Epoch 46/150\n",
      "141/141 [==============================] - 0s 865us/step - loss: 0.2166 - accuracy: 0.9178\n",
      "Epoch 47/150\n",
      "141/141 [==============================] - 0s 925us/step - loss: 0.2122 - accuracy: 0.9202\n",
      "Epoch 48/150\n",
      "141/141 [==============================] - 0s 960us/step - loss: 0.2098 - accuracy: 0.9229\n",
      "Epoch 49/150\n",
      "141/141 [==============================] - 0s 831us/step - loss: 0.2060 - accuracy: 0.9191\n",
      "Epoch 50/150\n",
      "141/141 [==============================] - 0s 879us/step - loss: 0.2055 - accuracy: 0.9207\n",
      "Epoch 51/150\n",
      "141/141 [==============================] - 0s 823us/step - loss: 0.2059 - accuracy: 0.9171\n",
      "Epoch 52/150\n",
      "141/141 [==============================] - 0s 853us/step - loss: 0.2057 - accuracy: 0.9240\n",
      "Epoch 53/150\n",
      "141/141 [==============================] - 0s 859us/step - loss: 0.2037 - accuracy: 0.9247\n",
      "Epoch 54/150\n",
      "141/141 [==============================] - 0s 813us/step - loss: 0.1993 - accuracy: 0.9220\n",
      "Epoch 55/150\n",
      "141/141 [==============================] - 0s 781us/step - loss: 0.1998 - accuracy: 0.9207\n",
      "Epoch 56/150\n",
      "141/141 [==============================] - 0s 805us/step - loss: 0.1992 - accuracy: 0.9253\n",
      "Epoch 57/150\n",
      "141/141 [==============================] - 0s 810us/step - loss: 0.1979 - accuracy: 0.9267\n",
      "Epoch 58/150\n",
      "141/141 [==============================] - 0s 790us/step - loss: 0.1961 - accuracy: 0.9240\n",
      "Epoch 59/150\n",
      "141/141 [==============================] - 0s 813us/step - loss: 0.1957 - accuracy: 0.9253\n",
      "Epoch 60/150\n",
      "141/141 [==============================] - 0s 787us/step - loss: 0.1936 - accuracy: 0.9282\n",
      "Epoch 61/150\n",
      "141/141 [==============================] - 0s 823us/step - loss: 0.1928 - accuracy: 0.9258\n",
      "Epoch 62/150\n",
      "141/141 [==============================] - 0s 785us/step - loss: 0.1873 - accuracy: 0.9267\n",
      "Epoch 63/150\n",
      "141/141 [==============================] - 0s 961us/step - loss: 0.1913 - accuracy: 0.9247\n",
      "Epoch 64/150\n",
      "141/141 [==============================] - 0s 1ms/step - loss: 0.1878 - accuracy: 0.9280\n",
      "Epoch 65/150\n",
      "141/141 [==============================] - 0s 914us/step - loss: 0.1915 - accuracy: 0.9231\n",
      "Epoch 66/150\n",
      "141/141 [==============================] - 0s 971us/step - loss: 0.1917 - accuracy: 0.9267\n",
      "Epoch 67/150\n",
      "141/141 [==============================] - 0s 1ms/step - loss: 0.1890 - accuracy: 0.9256\n",
      "Epoch 68/150\n",
      "141/141 [==============================] - 0s 1ms/step - loss: 0.1871 - accuracy: 0.9271\n",
      "Epoch 69/150\n",
      "141/141 [==============================] - 0s 918us/step - loss: 0.1847 - accuracy: 0.9276\n",
      "Epoch 70/150\n",
      "141/141 [==============================] - 0s 908us/step - loss: 0.1838 - accuracy: 0.9287\n",
      "Epoch 71/150\n",
      "141/141 [==============================] - 0s 970us/step - loss: 0.1855 - accuracy: 0.9273\n",
      "Epoch 72/150\n",
      "141/141 [==============================] - 0s 1ms/step - loss: 0.1808 - accuracy: 0.9289\n",
      "Epoch 73/150\n",
      "141/141 [==============================] - 0s 962us/step - loss: 0.1791 - accuracy: 0.9300\n",
      "Epoch 74/150\n",
      "141/141 [==============================] - 0s 947us/step - loss: 0.1774 - accuracy: 0.9304\n",
      "Epoch 75/150\n",
      "141/141 [==============================] - 0s 975us/step - loss: 0.1781 - accuracy: 0.9316\n",
      "Epoch 76/150\n",
      "141/141 [==============================] - 0s 863us/step - loss: 0.1821 - accuracy: 0.9278\n",
      "Epoch 77/150\n",
      "141/141 [==============================] - 0s 850us/step - loss: 0.1787 - accuracy: 0.9287\n",
      "Epoch 78/150\n",
      "141/141 [==============================] - 0s 1ms/step - loss: 0.1769 - accuracy: 0.9311\n",
      "Epoch 79/150\n",
      "141/141 [==============================] - 0s 953us/step - loss: 0.1766 - accuracy: 0.9300\n"
     ]
    },
    {
     "name": "stdout",
     "output_type": "stream",
     "text": [
      "Epoch 80/150\n",
      "141/141 [==============================] - 0s 904us/step - loss: 0.1740 - accuracy: 0.9316\n",
      "Epoch 81/150\n",
      "141/141 [==============================] - 0s 830us/step - loss: 0.1726 - accuracy: 0.9324\n",
      "Epoch 82/150\n",
      "141/141 [==============================] - 0s 1ms/step - loss: 0.1723 - accuracy: 0.9340\n",
      "Epoch 83/150\n",
      "141/141 [==============================] - 0s 1ms/step - loss: 0.1750 - accuracy: 0.9324\n",
      "Epoch 84/150\n",
      "141/141 [==============================] - 0s 897us/step - loss: 0.1719 - accuracy: 0.9369\n",
      "Epoch 85/150\n",
      "141/141 [==============================] - 0s 957us/step - loss: 0.1715 - accuracy: 0.9327\n",
      "Epoch 86/150\n",
      "141/141 [==============================] - 0s 811us/step - loss: 0.1725 - accuracy: 0.9311\n",
      "Epoch 87/150\n",
      "141/141 [==============================] - 0s 837us/step - loss: 0.1710 - accuracy: 0.9329\n",
      "Epoch 88/150\n",
      "141/141 [==============================] - 0s 807us/step - loss: 0.1675 - accuracy: 0.9353\n",
      "Epoch 89/150\n",
      "141/141 [==============================] - 0s 802us/step - loss: 0.1702 - accuracy: 0.9336\n",
      "Epoch 90/150\n",
      "141/141 [==============================] - 0s 807us/step - loss: 0.1674 - accuracy: 0.9311\n",
      "Epoch 91/150\n",
      "141/141 [==============================] - 0s 794us/step - loss: 0.1677 - accuracy: 0.9327\n",
      "Epoch 92/150\n",
      "141/141 [==============================] - 0s 809us/step - loss: 0.1669 - accuracy: 0.9347\n",
      "Epoch 93/150\n",
      "141/141 [==============================] - 0s 771us/step - loss: 0.1707 - accuracy: 0.9302\n",
      "Epoch 94/150\n",
      "141/141 [==============================] - 0s 795us/step - loss: 0.1635 - accuracy: 0.9369\n",
      "Epoch 95/150\n",
      "141/141 [==============================] - 0s 773us/step - loss: 0.1655 - accuracy: 0.9322\n",
      "Epoch 96/150\n",
      "141/141 [==============================] - 0s 821us/step - loss: 0.1680 - accuracy: 0.9318\n",
      "Epoch 97/150\n",
      "141/141 [==============================] - 0s 786us/step - loss: 0.1645 - accuracy: 0.9329\n",
      "Epoch 98/150\n",
      "141/141 [==============================] - 0s 798us/step - loss: 0.1654 - accuracy: 0.9351\n",
      "Epoch 99/150\n",
      "141/141 [==============================] - 0s 815us/step - loss: 0.1606 - accuracy: 0.9329\n",
      "Epoch 100/150\n",
      "141/141 [==============================] - 0s 802us/step - loss: 0.1630 - accuracy: 0.9336\n",
      "Epoch 101/150\n",
      "141/141 [==============================] - 0s 775us/step - loss: 0.1612 - accuracy: 0.9313\n",
      "Epoch 102/150\n",
      "141/141 [==============================] - 0s 783us/step - loss: 0.1623 - accuracy: 0.9331\n",
      "Epoch 103/150\n",
      "141/141 [==============================] - 0s 808us/step - loss: 0.1617 - accuracy: 0.9353\n",
      "Epoch 104/150\n",
      "141/141 [==============================] - 0s 767us/step - loss: 0.1610 - accuracy: 0.9353\n",
      "Epoch 105/150\n",
      "141/141 [==============================] - 0s 837us/step - loss: 0.1609 - accuracy: 0.9329\n",
      "Epoch 106/150\n",
      "141/141 [==============================] - 0s 767us/step - loss: 0.1576 - accuracy: 0.9382\n",
      "Epoch 107/150\n",
      "141/141 [==============================] - 0s 811us/step - loss: 0.1565 - accuracy: 0.9376\n",
      "Epoch 108/150\n",
      "141/141 [==============================] - 0s 791us/step - loss: 0.1578 - accuracy: 0.9362\n",
      "Epoch 109/150\n",
      "141/141 [==============================] - 0s 804us/step - loss: 0.1563 - accuracy: 0.9371\n",
      "Epoch 110/150\n",
      "141/141 [==============================] - 0s 774us/step - loss: 0.1577 - accuracy: 0.9358\n",
      "Epoch 111/150\n",
      "141/141 [==============================] - 0s 777us/step - loss: 0.1604 - accuracy: 0.9298\n",
      "Epoch 112/150\n",
      "141/141 [==============================] - 0s 808us/step - loss: 0.1587 - accuracy: 0.9376\n",
      "Epoch 113/150\n",
      "141/141 [==============================] - 0s 796us/step - loss: 0.1574 - accuracy: 0.9356\n",
      "Epoch 114/150\n",
      "141/141 [==============================] - 0s 811us/step - loss: 0.1541 - accuracy: 0.9364\n",
      "Epoch 115/150\n",
      "141/141 [==============================] - 0s 782us/step - loss: 0.1562 - accuracy: 0.9380\n",
      "Epoch 116/150\n",
      "141/141 [==============================] - 0s 836us/step - loss: 0.1535 - accuracy: 0.9376\n",
      "Epoch 117/150\n",
      "141/141 [==============================] - 0s 787us/step - loss: 0.1551 - accuracy: 0.9376\n",
      "Epoch 118/150\n",
      "141/141 [==============================] - 0s 797us/step - loss: 0.1537 - accuracy: 0.9409\n",
      "Epoch 119/150\n",
      "141/141 [==============================] - 0s 773us/step - loss: 0.1529 - accuracy: 0.9358\n",
      "Epoch 120/150\n",
      "141/141 [==============================] - 0s 773us/step - loss: 0.1552 - accuracy: 0.9380\n",
      "Epoch 121/150\n",
      "141/141 [==============================] - 0s 824us/step - loss: 0.1541 - accuracy: 0.9371\n",
      "Epoch 122/150\n",
      "141/141 [==============================] - 0s 784us/step - loss: 0.1522 - accuracy: 0.9382\n",
      "Epoch 123/150\n",
      "141/141 [==============================] - 0s 799us/step - loss: 0.1515 - accuracy: 0.9389\n",
      "Epoch 124/150\n",
      "141/141 [==============================] - 0s 783us/step - loss: 0.1546 - accuracy: 0.9376\n",
      "Epoch 125/150\n",
      "141/141 [==============================] - 0s 819us/step - loss: 0.1535 - accuracy: 0.9364\n",
      "Epoch 126/150\n",
      "141/141 [==============================] - 0s 786us/step - loss: 0.1538 - accuracy: 0.9367\n",
      "Epoch 127/150\n",
      "141/141 [==============================] - 0s 810us/step - loss: 0.1498 - accuracy: 0.9398\n",
      "Epoch 128/150\n",
      "141/141 [==============================] - 0s 783us/step - loss: 0.1490 - accuracy: 0.9404\n",
      "Epoch 129/150\n",
      "141/141 [==============================] - 0s 785us/step - loss: 0.1497 - accuracy: 0.9387\n",
      "Epoch 130/150\n",
      "141/141 [==============================] - 0s 802us/step - loss: 0.1484 - accuracy: 0.9400\n",
      "Epoch 131/150\n",
      "141/141 [==============================] - 0s 811us/step - loss: 0.1483 - accuracy: 0.9371\n",
      "Epoch 132/150\n",
      "141/141 [==============================] - 0s 809us/step - loss: 0.1498 - accuracy: 0.9380\n",
      "Epoch 133/150\n",
      "141/141 [==============================] - 0s 780us/step - loss: 0.1517 - accuracy: 0.9378\n",
      "Epoch 134/150\n",
      "141/141 [==============================] - 0s 808us/step - loss: 0.1492 - accuracy: 0.9378\n",
      "Epoch 135/150\n",
      "141/141 [==============================] - 0s 787us/step - loss: 0.1486 - accuracy: 0.9396\n",
      "Epoch 136/150\n",
      "141/141 [==============================] - 0s 809us/step - loss: 0.1503 - accuracy: 0.9376\n",
      "Epoch 137/150\n",
      "141/141 [==============================] - 0s 772us/step - loss: 0.1461 - accuracy: 0.9416\n",
      "Epoch 138/150\n",
      "141/141 [==============================] - 0s 802us/step - loss: 0.1452 - accuracy: 0.9440\n",
      "Epoch 139/150\n",
      "141/141 [==============================] - 0s 778us/step - loss: 0.1481 - accuracy: 0.9382\n",
      "Epoch 140/150\n",
      "141/141 [==============================] - 0s 847us/step - loss: 0.1452 - accuracy: 0.9416\n",
      "Epoch 141/150\n",
      "141/141 [==============================] - 0s 791us/step - loss: 0.1444 - accuracy: 0.9409\n",
      "Epoch 142/150\n",
      "141/141 [==============================] - 0s 789us/step - loss: 0.1479 - accuracy: 0.9389\n",
      "Epoch 143/150\n",
      "141/141 [==============================] - 0s 826us/step - loss: 0.1464 - accuracy: 0.9404\n",
      "Epoch 144/150\n",
      "141/141 [==============================] - 0s 783us/step - loss: 0.1422 - accuracy: 0.9416\n",
      "Epoch 145/150\n",
      "141/141 [==============================] - 0s 812us/step - loss: 0.1458 - accuracy: 0.9413\n",
      "Epoch 146/150\n",
      "141/141 [==============================] - 0s 806us/step - loss: 0.1428 - accuracy: 0.9440\n",
      "Epoch 147/150\n",
      "141/141 [==============================] - 0s 809us/step - loss: 0.1425 - accuracy: 0.9387\n",
      "Epoch 148/150\n",
      "141/141 [==============================] - 0s 786us/step - loss: 0.1423 - accuracy: 0.9422\n",
      "Epoch 149/150\n",
      "141/141 [==============================] - 0s 792us/step - loss: 0.1419 - accuracy: 0.9411\n",
      "Epoch 150/150\n",
      "141/141 [==============================] - 0s 780us/step - loss: 0.1425 - accuracy: 0.9409\n"
     ]
    }
   ],
   "source": [
    "history = ann.fit(X_train, y_train, batch_size=32, epochs=150)"
   ]
  },
  {
   "cell_type": "markdown",
   "id": "41723020",
   "metadata": {},
   "source": [
    "#### 1) Batchsize = 32\n",
    "\n",
    "10 epox: 4 -> 5 -> 5 -> 5 ==> 0.7080 accuracy\n",
    "\n",
    "10 epox: 4 -> 18 -> 18 -> 5 ==> 0.7647 accuracy\n",
    "\n",
    "10 epox: 4 -> 54 -> 54 -> 5 ==> 0.8480 accuracy\n",
    "\n",
    "10 epox: 4 -> 72 -> 72 -> 5 ==> 0.8622 accuracy\n",
    "\n",
    "30 epox: 4 -> 18 -> 18 -> 5 ==> 0.8462 accuracy\n",
    "\n",
    "30 epox: 4 -> 36 -> 36 -> 5 ==> 0.8776 accuracy\n",
    "\n",
    "50 epox: 4 -> 72 -> 72 -> 5 ==> 0.9213 accuracy\n",
    "\n",
    "150 epox: 4 -> 72 -> 72 -> 5 ==> 0.9407 accuracy\n",
    "_____________________________________________________\n",
    "\n",
    "#### 2) Batchsize = 64\n",
    "\n",
    "10 epox: 4 -> 5 -> 5 -> 5 ==> 0.6576 accuracy\n",
    "\n",
    "10 epox: 4 -> 18 -> 18 -> 5 ==> 0.7767 accuracy\n",
    "\n",
    "10 epox: 4 -> 54 -> 54 -> 5 ==> 0.8142 accuracy\n",
    "\n",
    "30 epox: 4 -> 18 -> 18 -> 5 ==> 0.8413 accuracy\n",
    "\n",
    "30 epox: 4 -> 36 -> 36 -> 5 ==> 0.8787 accuracy\n",
    "\n",
    "50 epox: 4 -> 54 -> 54 -> 5 ==> 0.9031 accuracy\n"
   ]
  },
  {
   "cell_type": "markdown",
   "id": "495c04aa",
   "metadata": {},
   "source": [
    "### Graph of accuracy and losses "
   ]
  },
  {
   "cell_type": "code",
   "execution_count": 975,
   "id": "ef8d8901",
   "metadata": {},
   "outputs": [
    {
     "data": {
      "image/png": "[encoded data removed]",
      "text/plain": [
       "<Figure size 640x480 with 1 Axes>"
      ]
     },
     "metadata": {},
     "output_type": "display_data"
    }
   ],
   "source": [
    "history.history.keys()\n",
    "\n",
    "plt.plot(history.history['loss'])\n",
    "plt.title('Loss ')\n",
    "plt.show()"
   ]
  },
  {
   "cell_type": "markdown",
   "id": "25459fa7",
   "metadata": {},
   "source": [
    "____________________________________"
   ]
  },
  {
   "cell_type": "markdown",
   "id": "a68d3a9a",
   "metadata": {},
   "source": [
    "## 5. Making the predictions and evaluating the model"
   ]
  },
  {
   "cell_type": "code",
   "execution_count": 976,
   "id": "50ce0b25",
   "metadata": {},
   "outputs": [
    {
     "name": "stdout",
     "output_type": "stream",
     "text": [
      "36/36 [==============================] - 0s 714us/step - loss: 0.3091 - accuracy: 0.8791\n"
     ]
    }
   ],
   "source": [
    "accuracy_test = ann.evaluate(X_test, y_test)"
   ]
  },
  {
   "cell_type": "markdown",
   "id": "8cd1cdb3",
   "metadata": {},
   "source": [
    "#### 1) Batchsize = 32\n",
    "\n",
    "10 epox: 4 -> 5 -> 5 -> 5 ==> 0.7004 accuracy\n",
    "\n",
    "10 epox: 4 -> 18 -> 18 -> 5 ==> 0.7680 accuracy\n",
    "\n",
    "10 epox: 4 -> 54 -> 54 -> 5 ==> 0.8258 accuracy\n",
    "\n",
    "10 epox: 4 -> 72 -> 72 -> 5 ==> 0.8418 accuracy\n",
    "\n",
    "30 epox: 4 -> 18 -> 18 -> 5 ==> 0.8124 accuracy\n",
    "\n",
    "30 epox: 4 -> 36 -> 36 -> 5 ==> 0.8480 accuracy\n",
    "\n",
    "50 epox: 4 -> 72 -> 72 -> 5 ==> 0.8951 accuracy\n",
    "\n",
    "150 epox: 4 -> 72 -> 72 -> 5 ==> 0.9031 accuracy\n",
    "____________\n",
    "\n",
    "#### 2) Batchsize = 64\n",
    "\n",
    "10 epox: 4 -> 5 -> 5 -> 5 ==> 0.6569 accuracy\n",
    "\n",
    "10 epox: 4 -> 18 -> 18 -> 5 ==> 0.7618 accuracy\n",
    "\n",
    "10 epox: 4 -> 54 -> 54 -> 5 ==> 0.8142 accuracy\n",
    "\n",
    "30 epox: 4 -> 18 -> 18 -> 5 ==> 0.8107 accuracy\n",
    "\n",
    "30 epox: 4 -> 36 -> 36 -> 5 ==> 0.8551 accuracy\n",
    "\n",
    "50 epox: 4 -> 54 -> 54 -> 5 ==> 0.8791 accuracy\n"
   ]
  },
  {
   "cell_type": "markdown",
   "id": "35823168",
   "metadata": {},
   "source": [
    "_____________________________\n",
    "\n",
    "## Testing ANN prediction on other subjects"
   ]
  },
  {
   "cell_type": "code",
   "execution_count": 977,
   "id": "7aa00999",
   "metadata": {},
   "outputs": [],
   "source": [
    "smpl = pd.read_csv(\"C:/Users/miror/OneDrive - Ye9pfoBh9P/1_VUM_STUDY/3 year/01 Computational Intelligence/Assignment/Clean_Data_merged/test_cleandata.csv\")"
   ]
  },
  {
   "cell_type": "code",
   "execution_count": 978,
   "id": "9aa26ab6",
   "metadata": {},
   "outputs": [],
   "source": [
    "x2 = smpl.iloc[:, 1:-2].values\n",
    "activity_10 = encoder.fit_transform(smpl['activity'])\n",
    "y2 = activity_10"
   ]
  },
  {
   "cell_type": "code",
   "execution_count": 979,
   "id": "79acc230",
   "metadata": {},
   "outputs": [],
   "source": [
    "#Feature scalling\n",
    "X_train_2, X_test_2, y_train_2, y_test_2 = train_test_split(x2, y2, test_size = 1, random_state = 0)\n",
    "\n",
    "\n",
    "sc = StandardScaler()\n",
    "X_train_2 = sc.fit_transform(X_train_2)\n",
    "X_test_2 = sc.fit_transform(X_test_2)\n",
    "\n",
    "\n",
    "y_train_2 = np_utils.to_categorical(y_train_2)\n",
    "y_test_2 = np_utils.to_categorical(y_test_2) "
   ]
  },
  {
   "cell_type": "code",
   "execution_count": 980,
   "id": "da01c77f",
   "metadata": {},
   "outputs": [
    {
     "name": "stdout",
     "output_type": "stream",
     "text": [
      "78/78 [==============================] - 0s 714us/step - loss: 5.7229 - accuracy: 0.5990\n"
     ]
    }
   ],
   "source": [
    "accuracy_test = ann.evaluate(X_train_2, y_train_2)"
   ]
  },
  {
   "cell_type": "markdown",
   "id": "8bcd6dab",
   "metadata": {},
   "source": [
    "### 1) 32 Batch size\n",
    "10 epox: 4 -> 5 -> 5 -> 5 ==> 0.6726 accuracy\n",
    "\n",
    "10 epox: 4 -> 18 -> 18 -> 5 ==> 0.7409 accuracy\n",
    "\n",
    "10 epox: 4 -> 54 -> 54 -> 5 ==> 0.7429 accuracy\n",
    "\n",
    "10 epox: 4 -> 72 -> 72 -> 5 ==> 0.7094 accuracy\n",
    "\n",
    "30 epox: 4 -> 18 -> 18 -> 5 ==> 0.6653 accuracy\n",
    "\n",
    "30 epox: 4 -> 36 -> 36 -> 5 ==> 0.6067 accuracy\n",
    "\n",
    "50 epox: 4 -> 72 -> 72 -> 5 ==> 0.5756 accuracy\n",
    "\n",
    "150 epox: 4 -> 72 -> 72 -> 5 ==> 0.5990 accuracy\n",
    "\n",
    "-----------------------\n",
    "\n",
    "### 2) 64 Batch size\n",
    "10 epox: 4 -> 5 -> 5 -> 5 ==> 0.6358 accuracy\n",
    "\n",
    "10 epox: 4 -> 18 -> 18 -> 5 ==> 0.7397 accuracy\n",
    "\n",
    "10 epox: 4 -> 54 -> 54 -> 5 ==> 0.7304 accuracy\n",
    "\n",
    "30 epox: 4 -> 18 -> 18 -> 5 ==> 0.7235 accuracy\n",
    "\n",
    "30 epox: 4 -> 36 -> 36 -> 5 ==> 0.6225 accuracy\n",
    "\n",
    "50 epox: 4 -> 54 -> 54 -> 5 ==> 0.5356 accuracy"
   ]
  },
  {
   "cell_type": "markdown",
   "id": "01989942",
   "metadata": {},
   "source": [
    "_______________________"
   ]
  }
 ],
 "metadata": {
  "kernelspec": {
   "display_name": "Python 3 (ipykernel)",
   "language": "python",
   "name": "python3"
  },
  "language_info": {
   "codemirror_mode": {
    "name": "ipython",
    "version": 3
   },
   "file_extension": ".py",
   "mimetype": "text/x-python",
   "name": "python",
   "nbconvert_exporter": "python",
   "pygments_lexer": "ipython3",
   "version": "3.9.13"
  }
 },
 "nbformat": 4,
 "nbformat_minor": 5
}
